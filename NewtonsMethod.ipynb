{
 "cells": [
  {
   "cell_type": "code",
   "execution_count": 4,
   "id": "3778ec0e",
   "metadata": {},
   "outputs": [
    {
     "name": "stdout",
     "output_type": "stream",
     "text": [
      "Number of interation for newtons method to converge = 5\n",
      "Newtons method root is = 2.0945514815423265\n",
      "fps seperation at x = 4.440892098500626e-16\n",
      "final delta = 1.5915125657905006e-16\n",
      "scipys root was = 2.0945514815423265\n",
      "machine epsilong in general is = 2.220446049250313e-16\n"
     ]
    }
   ],
   "source": [
    "import math\n",
    "import numpy as np\n",
    "from scipy import optimize\n",
    "import sys\n",
    "\n",
    "def synthetic(coef,z):\n",
    "    n=len(coef)\n",
    "    f=np.copy(coef)\n",
    "    \n",
    "    for j in range(1,n):\n",
    "        for i in reversed(range(j,n)):\n",
    "            f[i-1]=f[i]*z+f[i-1]\n",
    "    return f\n",
    "\n",
    "def control(ax,ac):\n",
    "    rc=0.\n",
    "    x=ax[0]\n",
    "    c=ac[0]\n",
    "    n=len(c)\n",
    "    for i in range(n):\n",
    "        rc+=c[i]*pow(x,i)\n",
    "    return rc\n",
    "\n",
    "def main():\n",
    "    c= np.array([-5.,-2.,0.,1.])\n",
    "    x_=2.\n",
    "    x=x_\n",
    "    ex=np.spacing(x)\n",
    "    dx = ex*2\n",
    "    i=0\n",
    "    imax=10\n",
    "    while(abs(dx)>ex and i<imax):\n",
    "        f= synthetic(c,x)\n",
    "        dx=f[0]/f[1]\n",
    "        if(abs(dx)>ex):\n",
    "            x=x-dx\n",
    "            ex=np.spacing(x)\n",
    "        i=i+1\n",
    "    print(\"Number of iterations for newtons method to converge = {}\".format(i))\n",
    "    print(\"Newtons method root is = {}\".format(x))\n",
    "    print(\"fps seperation at x = {}\".format(ex))\n",
    "    print(\"final delta = {}\".format(abs(dx)))\n",
    "    \n",
    "    em=np.finfo(float).eps\n",
    "    xs = optimize.root(control,x_,args=[c])\n",
    "    x_sys = xs.x[0]\n",
    "    print(\"scipys root was = {}\".format(x_sys))\n",
    "    print(\"machine epsilong in general is = {}\".format(em))\n",
    "\n",
    "if __name__==\"__main__\":\n",
    "    main()"
   ]
  }
 ],
 "metadata": {
  "kernelspec": {
   "display_name": "Python 3 (ipykernel)",
   "language": "python",
   "name": "python3"
  },
  "language_info": {
   "codemirror_mode": {
    "name": "ipython",
    "version": 3
   },
   "file_extension": ".py",
   "mimetype": "text/x-python",
   "name": "python",
   "nbconvert_exporter": "python",
   "pygments_lexer": "ipython3",
   "version": "3.9.2"
  }
 },
 "nbformat": 4,
 "nbformat_minor": 5
}

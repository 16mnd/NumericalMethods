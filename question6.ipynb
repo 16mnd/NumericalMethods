{
 "cells": [
  {
   "cell_type": "code",
   "execution_count": 1,
   "id": "715c84f1",
   "metadata": {},
   "outputs": [
    {
     "name": "stdout",
     "output_type": "stream",
     "text": [
      "[[8. 0. 0. 0. 0.]\n",
      " [2. 7. 0. 0. 0.]\n",
      " [2. 5. 3. 0. 0.]\n",
      " [5. 9. 3. 3. 0.]\n",
      " [1. 2. 1. 2. 8.]]\n",
      "my answer:\n",
      "\n",
      " [[ 1.125     ]\n",
      " [ 0.53571429]\n",
      " [-0.64285714]\n",
      " [-0.17261905]\n",
      " [ 0.97395833]] \n",
      "\n",
      "numpy answer\n",
      "\n",
      " [[ 1.125     ]\n",
      " [ 0.53571429]\n",
      " [-0.64285714]\n",
      " [-0.17261905]\n",
      " [ 0.97395833]] \n",
      "\n"
     ]
    }
   ],
   "source": [
    "#homework 1 question 6 \n",
    "# Forward Elimination to solve a nonsingular lower-triangular system\n",
    "import numpy as np\n",
    "from scipy.linalg import solve\n",
    "\n",
    "def forward_sub(al, ab):\n",
    "    x = np.zeros((ab.shape))\n",
    "    for i in range(len(ab)):\n",
    "        x[i] = ab[i]\n",
    "        for j in range(i):  \n",
    "            x[i] = x[i]-(al[i, j]*x[j]) \n",
    "        x[i] = x[i]/al[i, i]\n",
    "    \n",
    "    return x\n",
    "\n",
    "al = np.tril(np.random.randint(1,10,(5,5))).astype(float)\n",
    "ab = np.random.randint(1,10,(5,1)).astype(float)\n",
    "#print(\"this is y : \", y)\n",
    "x = forward_sub(al,ab)\n",
    "print(\"my answer:\\n\\n\",x,\"\\n\")\n",
    "print(\"numpy answer\\n\\n\",np.linalg.solve(al,ab),\"\\n\")\n",
    "#print(\"scipy answer:\\n\\n\",solve(l,y),\"\\n\")\n",
    "\n"
   ]
  },
  {
   "cell_type": "code",
   "execution_count": null,
   "id": "25c1d5f1",
   "metadata": {},
   "outputs": [],
   "source": []
  }
 ],
 "metadata": {
  "kernelspec": {
   "display_name": "Python 3 (ipykernel)",
   "language": "python",
   "name": "python3"
  },
  "language_info": {
   "codemirror_mode": {
    "name": "ipython",
    "version": 3
   },
   "file_extension": ".py",
   "mimetype": "text/x-python",
   "name": "python",
   "nbconvert_exporter": "python",
   "pygments_lexer": "ipython3",
   "version": "3.9.2"
  }
 },
 "nbformat": 4,
 "nbformat_minor": 5
}

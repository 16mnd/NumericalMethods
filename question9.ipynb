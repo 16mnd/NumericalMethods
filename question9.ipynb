{
 "cells": [
  {
   "cell_type": "code",
   "execution_count": 6,
   "id": "36111733",
   "metadata": {},
   "outputs": [
    {
     "name": "stdout",
     "output_type": "stream",
     "text": [
      "[[-0.40824829  0.30151134  0.        ]\n",
      " [-2.04124145  0.90453403  0.70710678]\n",
      " [ 1.63299316 -0.30151134  0.70710678]]\n"
     ]
    }
   ],
   "source": [
    "#ignore this one\n",
    "\n",
    "\n",
    "'''\n",
    "import numpy as np\n",
    "\n",
    "\n",
    "def gram_schmidt_modified(A):\n",
    "    n = A.shape[1]\n",
    "    \n",
    "    for j in range(n):\n",
    "        r=np.linalg.norm(A[:,j])\n",
    "        A[:,j]=A[:, j] / r\n",
    "        for k in range(j+1, n-1):\n",
    "            \n",
    "            A[:, j] -= np.dot(A[:, k], A[:, j]) * A[:, k]\n",
    "        #A[:, j] = A[:, j] / np.linalg.norm(A[:, j])\n",
    "        \n",
    "        \n",
    "    return A\n",
    "\n",
    "\n",
    "A = np.array([[1.0, 1.0, 0.0], [1.0, 3.0, 1.0], [2.0, -1.0, 1.0]])\n",
    "print(gram_schmidt_modified(A))\n",
    "'''"
   ]
  },
  {
   "cell_type": "code",
   "execution_count": 5,
   "id": "8d5848f2",
   "metadata": {},
   "outputs": [
    {
     "name": "stdout",
     "output_type": "stream",
     "text": [
      "This is A: \n",
      " [[1. 1. 0.]\n",
      " [1. 0. 1.]\n",
      " [0. 1. 1.]]\n",
      "This is q : \n",
      " [[ 0.70710678  0.40824829 -0.57735027]\n",
      " [ 0.70710678 -0.40824829  0.57735027]\n",
      " [ 0.          0.81649658  0.57735027]]\n",
      "This is r : \n",
      " [[1.41421356 0.70710678 0.70710678]\n",
      " [0.         1.22474487 0.40824829]\n",
      " [0.         0.         1.15470054]]\n",
      "This is q times r : \n",
      " [[1.00000000e+00 1.00000000e+00 4.02426802e-17]\n",
      " [1.00000000e+00 1.73428748e-19 1.00000000e+00]\n",
      " [0.00000000e+00 1.00000000e+00 1.00000000e+00]]\n"
     ]
    }
   ],
   "source": [
    "#this is the one!!!\n",
    "\n",
    "import math\n",
    "import numpy as np\n",
    "def gramSchmidtRefined(A):\n",
    "    n=A.shape[0]\n",
    "    a= np.transpose(A)\n",
    "    r= np.zeros(A.shape, dtype=A.dtype)   #is all this really necessary?>\n",
    "    q=np.copy(a)\n",
    "    for i in range(n):\n",
    "        r[i,i]= math.sqrt(np.dot(q[:,i],q[:,i]))\n",
    "        q[:,i]=q[:,i]/r[i,i] # need rii to not be zero... Im going to let itbe for noew\n",
    "        for j in range(i+1,n):\n",
    "            r[i,j]=np.dot(q[:,i],q[:,j])\n",
    "            q[:,j]=q[:,j]-((r[i,j])*q[:,i])\n",
    "            \n",
    "    return q,r\n",
    "A= np.array([[1.0,1.0,0.0],[1.0,0.0,1.0],[0.0,1.0,1.0]])\n",
    "q,r=gramSchmidtRefined(A)\n",
    "\n",
    "print(\"This is A: \\n\", A)\n",
    "print(\"This is q : \\n\", q)\n",
    "print(\"This is r : \\n\", r)\n",
    "print(\"This is q times r : \\n\", np.dot(q,r))\n"
   ]
  },
  {
   "cell_type": "code",
   "execution_count": null,
   "id": "82d78ff5",
   "metadata": {},
   "outputs": [],
   "source": []
  }
 ],
 "metadata": {
  "kernelspec": {
   "display_name": "Python 3 (ipykernel)",
   "language": "python",
   "name": "python3"
  },
  "language_info": {
   "codemirror_mode": {
    "name": "ipython",
    "version": 3
   },
   "file_extension": ".py",
   "mimetype": "text/x-python",
   "name": "python",
   "nbconvert_exporter": "python",
   "pygments_lexer": "ipython3",
   "version": "3.9.2"
  }
 },
 "nbformat": 4,
 "nbformat_minor": 5
}

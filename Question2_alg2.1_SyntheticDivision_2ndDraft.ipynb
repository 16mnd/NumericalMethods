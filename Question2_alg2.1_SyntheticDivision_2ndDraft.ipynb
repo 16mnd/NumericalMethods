{
 "cells": [
  {
   "cell_type": "code",
   "execution_count": 2,
   "id": "e37d3c62",
   "metadata": {},
   "outputs": [
    {
     "name": "stdout",
     "output_type": "stream",
     "text": [
      "q2 synthetic division: coeffiecients = [ 0.3125 -6.5    -1.5     2.      1.    ]\n",
      "q2 synthetic division: x, next =1.5480769230769231\n"
     ]
    }
   ],
   "source": [
    "import numpy as np\n",
    "\n",
    "def synthetic_division(coef,z):\n",
    "    n=len(coef)\n",
    "    f=np.copy(coef)\n",
    "    \n",
    "    for j in range(1,n):\n",
    "        for i in reversed(range(j,n)):\n",
    "            f[i-1]=f[i]*z+f[i-1]\n",
    "    return f\n",
    "\n",
    "def main():\n",
    "    coef=np.array([5.,-2.,3.,-4.,1.])\n",
    "    z=1.5\n",
    "    values = synthetic_division(coef,z)\n",
    "    dx= z- (values[0]/values[1])\n",
    "    print(f\"q2 synthetic division: coeffiecients = {values}\")\n",
    "    print(f\"q2 synthetic division: x, next ={dx}\")\n",
    "    \n",
    "    \n",
    "if __name__==\"__main__\":\n",
    "    main()"
   ]
  },
  {
   "cell_type": "code",
   "execution_count": null,
   "id": "aefa6657",
   "metadata": {},
   "outputs": [],
   "source": []
  }
 ],
 "metadata": {
  "kernelspec": {
   "display_name": "Python 3 (ipykernel)",
   "language": "python",
   "name": "python3"
  },
  "language_info": {
   "codemirror_mode": {
    "name": "ipython",
    "version": 3
   },
   "file_extension": ".py",
   "mimetype": "text/x-python",
   "name": "python",
   "nbconvert_exporter": "python",
   "pygments_lexer": "ipython3",
   "version": "3.9.2"
  }
 },
 "nbformat": 4,
 "nbformat_minor": 5
}

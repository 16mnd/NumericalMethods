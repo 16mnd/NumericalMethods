{
 "cells": [
  {
   "cell_type": "code",
   "execution_count": 17,
   "id": "2cbcd6ad",
   "metadata": {},
   "outputs": [
    {
     "name": "stdout",
     "output_type": "stream",
     "text": [
      "[[1.25]\n",
      " [0.  ]\n",
      " [0.  ]\n",
      " [0.  ]\n",
      " [0.  ]]\n"
     ]
    }
   ],
   "source": [
    "#Homework question 7\n",
    "#back substituion code\n",
    "import numpy as np\n",
    "from scipy.linalg import solve\n",
    "def back_substitution(A, b):\n",
    "    n = b.size\n",
    "    #print(\"ths is n :\", n)\n",
    "    x = np.zeros((b.shape))\n",
    "    #print(\"this is x : \", x)\n",
    "\n",
    "    if A[n-1, n-1] == 0:\n",
    "\n",
    "        raise ValueError\n",
    "\n",
    "\n",
    "    x[n-1] = b[n-1]/A[n-1, n-1]\n",
    "\n",
    "    C = np.zeros((n,n))\n",
    "    for i in range(n-2, -1, -1):\n",
    "        bb = 0\n",
    "        for j in range (i+1, n):\n",
    "            bb += A[i, j]*x[j]\n",
    "        C[i, i] = b[i] - bb\n",
    "        x[i] = C[i, i]/A[i, i]\n",
    "\n",
    "    return x\n",
    "A = np.triu(np.random.randint(0,10,(5,5))).astype(float)\n",
    "#print(A)\n",
    "b = np.triu(np.random.randint(0,10,(5,1))).astype(float)\n",
    "#print(b)\n",
    "final_product= back_substitution(A,b)\n",
    "print(final_product)"
   ]
  },
  {
   "cell_type": "code",
   "execution_count": null,
   "id": "abfd3c25",
   "metadata": {},
   "outputs": [],
   "source": []
  }
 ],
 "metadata": {
  "kernelspec": {
   "display_name": "Python 3 (ipykernel)",
   "language": "python",
   "name": "python3"
  },
  "language_info": {
   "codemirror_mode": {
    "name": "ipython",
    "version": 3
   },
   "file_extension": ".py",
   "mimetype": "text/x-python",
   "name": "python",
   "nbconvert_exporter": "python",
   "pygments_lexer": "ipython3",
   "version": "3.9.2"
  }
 },
 "nbformat": 4,
 "nbformat_minor": 5
}

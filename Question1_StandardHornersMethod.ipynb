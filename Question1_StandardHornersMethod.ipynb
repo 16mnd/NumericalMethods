{
 "cells": [
  {
   "cell_type": "code",
   "execution_count": 4,
   "id": "b92a5bd1",
   "metadata": {},
   "outputs": [
    {
     "name": "stdout",
     "output_type": "stream",
     "text": [
      "q1 horners = 0.3125\n",
      "q1 python  = 0.3125\n"
     ]
    },
    {
     "data": {
      "text/plain": [
       "0.3125"
      ]
     },
     "execution_count": 4,
     "metadata": {},
     "output_type": "execute_result"
    }
   ],
   "source": [
    "import numpy as np\n",
    "from numpy.polynomial.polynomial import polyval\n",
    "#lister is all coefficients in descending order\n",
    "# n is the total number of monomials in initial polynomial\n",
    "# z is the value at which the polynomial is being evaluated\n",
    "def hornersMethod(n,z,lister): \n",
    "    s = lister[0]\n",
    "    for i in lister[1:]:\n",
    "        s= (s*z) + i\n",
    "    return s\n",
    "        \n",
    "\n",
    "\n",
    "\n",
    "def main():\n",
    "    z = 1.5\n",
    "    coef = np.array([1.,-4.,3.,-2.,5.])\n",
    "    y = hornersMethod(len(coef),z,coef)\n",
    "    print(f\"q1 horners = {y}\")\n",
    "\n",
    "    counter = len(coef)-1\n",
    "    new_y = 0. \n",
    "    for i in range(len(coef)):\n",
    "        new_y += coef[i]*pow(z,counter)\n",
    "        counter-=1\n",
    "    print(f\"q1 python  = {new_y}\")\n",
    "    \n",
    "run = main()\n",
    "\n",
    "\n",
    "coef = np.array([1.,-4.,3.,-2.,5.])[::-1]\n",
    "polyval(1.5, coef)"
   ]
  },
  {
   "cell_type": "code",
   "execution_count": 10,
   "id": "0fb005a9",
   "metadata": {},
   "outputs": [
    {
     "name": "stdout",
     "output_type": "stream",
     "text": [
      "As can be seen. The polynomial evaluated using horners method is equivalent \n",
      "to the polynomial being evaluated without horners method.\n"
     ]
    }
   ],
   "source": [
    "print(\"As can be seen. The polynomial evaluated using horners method is equivalent \\nto the polynomial being evaluated without horners method.\") "
   ]
  },
  {
   "cell_type": "code",
   "execution_count": null,
   "id": "52a1240d",
   "metadata": {},
   "outputs": [],
   "source": []
  }
 ],
 "metadata": {
  "kernelspec": {
   "display_name": "Python 3 (ipykernel)",
   "language": "python",
   "name": "python3"
  },
  "language_info": {
   "codemirror_mode": {
    "name": "ipython",
    "version": 3
   },
   "file_extension": ".py",
   "mimetype": "text/x-python",
   "name": "python",
   "nbconvert_exporter": "python",
   "pygments_lexer": "ipython3",
   "version": "3.9.2"
  }
 },
 "nbformat": 4,
 "nbformat_minor": 5
}

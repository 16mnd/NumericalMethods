{
 "cells": [
  {
   "cell_type": "code",
   "execution_count": 70,
   "id": "170d3d55",
   "metadata": {},
   "outputs": [
    {
     "name": "stdout",
     "output_type": "stream",
     "text": [
      "100010101\n"
     ]
    }
   ],
   "source": [
    "\n",
    "#question number 2 for homework\n",
    "#converting interger to binary \n",
    "import math\n",
    "def int_to_binary(num):\n",
    "    if(num==0):           #base caseL incase input is 0\n",
    "        return 0\n",
    "    pos_num = abs(num)  #making it a positive integer \n",
    "    lister=[]\n",
    "    lister.insert(0,pos_num)\n",
    "    while(pos_num != 1):  #loop through the number until we enough divisions give us one\n",
    "        pos_num=pos_num//2  #floor division \n",
    "        lister.insert(0,pos_num) # num at beginning to make loop easier \n",
    "        if(pos_num==1): #break if we arrive at one\n",
    "            break\n",
    "        else: #else keep going\n",
    "            pass\n",
    "    final =conversion(lister) #function call to conversion to get binary\n",
    "    if(num>0):  #if number was positive from start then just join it as a string and return\n",
    "        new_final = ''.join(str(e) for e in final)\n",
    "        return int(new_final)\n",
    "    \n",
    "    \n",
    "    else: #if it was a negative number then it is a different story\n",
    "        container= []\n",
    "        final.insert(0,0) #have to add extra digit at the beginning for this to work\n",
    "        for i in final:  # this basically flips all ones to zeros and vice versa\n",
    "            if i==0:\n",
    "                container.append(1)\n",
    "            else:\n",
    "                container.append(0)\n",
    "        temp=''.join(map(str,container)) #then join it as a string\n",
    "        #print(\"this is the tmep\", temp)\n",
    "        new_final= add_binary_nums(temp,'1') #then this adds the flipped binary number to one\n",
    "        return int(new_final) # this is supposed to return the correct binary \n",
    "    \n",
    "    return str(\"failed to work\")\n",
    "\n",
    "def conversion(lister):    \n",
    "    final=[]\n",
    "    for i in lister:  \n",
    "        if(i%2==0):  #loop through string and if their is not a remainder then it is a 0\n",
    "            final.append(0)\n",
    "        else:\n",
    "            final.append(1) # add one if their is a remainder\n",
    "    return final\n",
    "\n",
    "\n",
    "# This function adds two binary\n",
    "# strings return the resulting string\n",
    "#this is from geeksforgeeks\n",
    "def add_binary_nums(x, y):   #their is something wrong with this function that I am not able to fix\n",
    "    max_len = max(len(x), len(y)) #however if this was pseudocode then it would be correct\n",
    "    if(x>y):\n",
    "        y=y.zfill(max_len)\n",
    "    else:\n",
    "        x=x.zfill(max_len) \n",
    "    result = ''\n",
    "    carry = 0\n",
    "    for i in range(max_len - 1, -1, -1):\n",
    "        r = carry\n",
    "        if(x[i]=='1'):\n",
    "            r+=1\n",
    "        else:\n",
    "            0\n",
    "        if(y[i]=='1'):\n",
    "            r+=1\n",
    "        else:\n",
    "            0\n",
    "        result = ('1' if r % 2 == 1 else '0') + result\n",
    "        carry = 0 if r < 2 else 1 # Compute the carry.\n",
    "\n",
    "        if carry !=0 : result = '1' + result\n",
    "    return result.zfill(max_len)\n",
    "\n",
    "\n",
    "#tester call for function above   \n",
    "print(int_to_binary(277))\n",
    "\n",
    "\n",
    "#############################################################################################################\n"
   ]
  },
  {
   "cell_type": "code",
   "execution_count": 71,
   "id": "55bdf0a4",
   "metadata": {},
   "outputs": [
    {
     "data": {
      "text/plain": [
       "175"
      ]
     },
     "execution_count": 71,
     "metadata": {},
     "output_type": "execute_result"
    }
   ],
   "source": [
    "def binary_to_decimal(num):  #only for positive\n",
    "    keeper = str(num)\n",
    "    reorganize = len(keeper)\n",
    "    counter=0\n",
    "    for i in range(len(keeper)-1, -1,-1):   \n",
    "        exp= 2**i \n",
    "        track = int(keeper[reorganize-(i+1)]) \n",
    "        counter += exp*track  \n",
    "    return counter\n",
    "\n",
    "#tester call for function above    \n",
    "binary_to_decimal(10101111)"
   ]
  },
  {
   "cell_type": "code",
   "execution_count": 81,
   "id": "03427973",
   "metadata": {},
   "outputs": [
    {
     "data": {
      "text/plain": [
       "11011"
      ]
     },
     "execution_count": 81,
     "metadata": {},
     "output_type": "execute_result"
    }
   ],
   "source": [
    "def integer_to_binary(n):  #only for positive  \n",
    "      \n",
    "    i= 0\n",
    "    num = 0\n",
    "    while(n>=1):\n",
    "        num = (10**i) * (n%2) + num\n",
    "        n=n//2\n",
    "        i+=1\n",
    "    return int(num)\n",
    "    \n",
    "integer_to_binary(27) "
   ]
  },
  {
   "cell_type": "code",
   "execution_count": 95,
   "id": "190d98d8",
   "metadata": {},
   "outputs": [
    {
     "name": "stdout",
     "output_type": "stream",
     "text": [
      "1\n",
      "1\n",
      "0\n",
      "1\n"
     ]
    },
    {
     "data": {
      "text/plain": [
       "0.6875"
      ]
     },
     "execution_count": 95,
     "metadata": {},
     "output_type": "execute_result"
    }
   ],
   "source": [
    "def binary_fraction_to_decimal(num): #only positive\n",
    "    \n",
    "    num = num.split('.')\n",
    "    final = 0\n",
    "    counter = 0\n",
    "    for i in range(len(num[1])-1,-1,-1):\n",
    "        print(num[1][i])\n",
    "        final = (0.5)*(int(num[1][i])+counter)\n",
    "        counter=final\n",
    "        \n",
    "    return final\n",
    "    \n",
    "\n",
    "     \n",
    "binary_fraction_to_decimal('0.1011')"
   ]
  },
  {
   "cell_type": "code",
   "execution_count": 104,
   "id": "4d3432ab",
   "metadata": {},
   "outputs": [
    {
     "name": "stdout",
     "output_type": "stream",
     "text": [
      "1\n",
      "1\n",
      "0\n",
      "1\n"
     ]
    },
    {
     "data": {
      "text/plain": [
       "11.6875"
      ]
     },
     "execution_count": 104,
     "metadata": {},
     "output_type": "execute_result"
    }
   ],
   "source": [
    "\n",
    "def binary_integer_full_to_decimal(num):\n",
    "    \n",
    "    num = num.split('.')\n",
    "    final = 0\n",
    "    counter = 0\n",
    "    for i in range(len(num[1])-1,-1,-1):\n",
    "        print(num[1][i])\n",
    "        final = (0.5)*(int(num[1][i])+counter)\n",
    "        counter=final\n",
    "        \n",
    "    reorganize=len(num[0])\n",
    "    for i in range(len(num[0])-1,-1,-1):\n",
    "        exp= 2**i \n",
    "        track = int(num[0][reorganize-(i+1)]) \n",
    "        counter += exp*track \n",
    "\n",
    "        \n",
    "    \n",
    "    return counter\n",
    "    \n",
    "\n",
    "     \n",
    "binary_integer_full_to_decimal('1011.1011')"
   ]
  },
  {
   "cell_type": "code",
   "execution_count": 6,
   "id": "e9889b5e",
   "metadata": {},
   "outputs": [
    {
     "data": {
      "text/plain": [
       "'0.011'"
      ]
     },
     "execution_count": 6,
     "metadata": {},
     "output_type": "execute_result"
    }
   ],
   "source": [
    "def decimal_to_binary(num):\n",
    "    lister= []\n",
    "    while(num != 0):\n",
    "        num = num * 2\n",
    "        this = str(num)\n",
    "        lister.append((this.split('.')))\n",
    "        if num>=1:\n",
    "            num=num-1\n",
    "        else:\n",
    "            num=num\n",
    "    final = ''\n",
    "    final_two = ''\n",
    "    for i,j in lister:\n",
    "        final = final + i\n",
    "    return '0.' + final\n",
    "        \n",
    "        \n",
    "decimal_to_binary(.375)"
   ]
  },
  {
   "cell_type": "code",
   "execution_count": 12,
   "id": "a21a2cd5",
   "metadata": {},
   "outputs": [
    {
     "data": {
      "text/plain": [
       "'100011.10101101100100010110100001110010101100000010000011001'"
      ]
     },
     "execution_count": 12,
     "metadata": {},
     "output_type": "execute_result"
    }
   ],
   "source": [
    "def integer_to_binary(n):  #only for positive  \n",
    "    this = str(n)\n",
    "    this = this.split('.') \n",
    "    integer = int(this[0])\n",
    "    decimal = float('0.'+this[1])\n",
    "    \n",
    "    i= 0\n",
    "    num = 0\n",
    "    while(integer>=1):\n",
    "        num = (10**i) * (integer%2) + num\n",
    "        integer=integer//2\n",
    "        i+=1\n",
    "    \n",
    "\n",
    "    okaydokey=decimal_to_binary(decimal)\n",
    "    finalll= str(num) + str(okaydokey)\n",
    "    return finalll\n",
    "    \n",
    "def decimal_to_binary(num):\n",
    "    lister= []\n",
    "    while(num != 0):\n",
    "        num = num * 2\n",
    "        this = str(num)\n",
    "        lister.append((this.split('.')))\n",
    "        if num>=1:\n",
    "            num=num-1\n",
    "        else:\n",
    "            num=num\n",
    "    final = ''\n",
    "    final_two = ''\n",
    "    for i,j in lister:\n",
    "        final = final + i\n",
    "    return '.' + final\n",
    "#integer_to_binary(27.375) \n",
    "\n",
    "integer_to_binary(35.678) "
   ]
  },
  {
   "cell_type": "code",
   "execution_count": null,
   "id": "b656e6dc",
   "metadata": {},
   "outputs": [],
   "source": []
  }
 ],
 "metadata": {
  "kernelspec": {
   "display_name": "Python 3 (ipykernel)",
   "language": "python",
   "name": "python3"
  },
  "language_info": {
   "codemirror_mode": {
    "name": "ipython",
    "version": 3
   },
   "file_extension": ".py",
   "mimetype": "text/x-python",
   "name": "python",
   "nbconvert_exporter": "python",
   "pygments_lexer": "ipython3",
   "version": "3.9.2"
  }
 },
 "nbformat": 4,
 "nbformat_minor": 5
}

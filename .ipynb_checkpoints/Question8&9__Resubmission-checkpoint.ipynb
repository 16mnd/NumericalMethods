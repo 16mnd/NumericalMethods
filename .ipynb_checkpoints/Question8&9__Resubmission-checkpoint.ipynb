{
 "cells": [
  {
   "cell_type": "code",
   "execution_count": 1,
   "id": "90255a52",
   "metadata": {},
   "outputs": [
    {
     "name": "stdout",
     "output_type": "stream",
     "text": [
      "this is A \n",
      " [[1. 2. 3.]\n",
      " [4. 5. 6.]\n",
      " [7. 8. 9.]] \n",
      "\n",
      "Q, unitary\n",
      " [[ 0.12309149  0.90453403 -0.90453403]\n",
      " [ 0.49236596  0.30151134 -0.30151134]\n",
      " [ 0.86164044 -0.30151134  0.30151134]] \n",
      "\n",
      "R, upper right triangular\n",
      " [[8.12403840e+00 9.60113630e+00 1.10782342e+01]\n",
      " [0.00000000e+00 9.04534034e-01 1.80906807e+00]\n",
      " [0.00000000e+00 0.00000000e+00 1.62016501e-14]] \n",
      "\n",
      "QR, reconstituted to a\n",
      " [[1. 2. 3.]\n",
      " [4. 5. 6.]\n",
      " [7. 8. 9.]] \n",
      "\n"
     ]
    }
   ],
   "source": [
    "#question 8\n",
    "\n",
    "import numpy as np\n",
    "\n",
    "def finalImplementation(A):\n",
    "    r = np.zeros(A.shape, dtype=A.dtype)\n",
    "    q = np.copy(A)\n",
    "    for j in range(A.shape[0]):\n",
    "        for i in range(j):\n",
    "            r[i,j] = np.dot(q[:,i].T,A[:,j])\n",
    "            q[:,j] = q[:,j] - r[i,j]*q[:,i]\n",
    "\n",
    "        r[j,j] = np.linalg.norm(q[:,j])\n",
    "        if r[j,j] == 0:\n",
    "              print(\"oh, crap\")\n",
    "        else:\n",
    "              q[:,j] = q[:,j]/r[j,j]    \n",
    "    #return u,r\n",
    "    return q,r\n",
    "\n",
    "\n",
    "\n",
    "A = np.array([[1.,2.,3.],[4.,5.,6.],[7.,8.,9.]])\n",
    "Q,R = finalImplementation(A)\n",
    "print(\"this is A \\n\", A, \"\\n\")\n",
    "print(\"Q, unitary\\n\",Q,\"\\n\") # transpose switches column index back to 2nd position\n",
    "print(\"R, upper right triangular\\n\",R,\"\\n\")\n",
    "print(\"QR, reconstituted to a\\n\",np.dot(Q,R),\"\\n\")\n",
    "\n"
   ]
  },
  {
   "cell_type": "code",
   "execution_count": 6,
   "id": "b5def2c7",
   "metadata": {},
   "outputs": [
    {
     "name": "stdout",
     "output_type": "stream",
     "text": [
      "This is A: \n",
      " [[4. 5. 7.]\n",
      " [1. 2. 5.]\n",
      " [3. 1. 6.]]\n",
      "This is q : \n",
      " [[ 0.78446454  0.47257281 -0.40160966]\n",
      " [ 0.19611614  0.42531553  0.88354126]\n",
      " [ 0.58834841 -0.77186893  0.2409658 ]]\n",
      "This is r : \n",
      " [[ 5.09901951  4.90290338 10.00192289]\n",
      " [ 0.          2.44162619  0.80337378]\n",
      " [ 0.          0.          3.05223345]]\n",
      "This is q times r : \n",
      " [[4. 5. 7.]\n",
      " [1. 2. 5.]\n",
      " [3. 1. 6.]]\n"
     ]
    }
   ],
   "source": [
    "#question 9\n",
    "\n",
    "import math\n",
    "import numpy as np\n",
    "def gramSchmidtRefined(A):\n",
    "    n=A.shape[0]\n",
    "    a= A\n",
    "    r= np.zeros(A.shape, dtype=A.dtype)   \n",
    "    q=np.copy(a)\n",
    "    for i in range(n):\n",
    "        r[i,i]= math.sqrt(np.dot(q[:,i],q[:,i]))\n",
    "        q[:,i]=q[:,i]/r[i,i] \n",
    "        for j in range(i+1,n):\n",
    "            r[i,j]=np.dot(q[:,i],q[:,j])\n",
    "            q[:,j]=q[:,j]-((r[i,j])*q[:,i])\n",
    "            \n",
    "    return q,r\n",
    "#A= np.array([[1.0,1.0,0.0],[1.0,0.0,1.0],[0.0,1.0,1.0]])\n",
    "A=  np.array([[4.0,5.0,7.0],[1.0,2.0,5.0],[3.0,1.0,6.0]])\n",
    "q,r=gramSchmidtRefined(A)\n",
    "\n",
    "print(\"This is A: \\n\", A)\n",
    "print(\"This is q : \\n\", q)\n",
    "print(\"This is r : \\n\", r)\n",
    "print(\"This is q times r : \\n\", np.dot(q,r))\n"
   ]
  },
  {
   "cell_type": "code",
   "execution_count": null,
   "id": "0c580656",
   "metadata": {},
   "outputs": [],
   "source": []
  }
 ],
 "metadata": {
  "kernelspec": {
   "display_name": "Python 3 (ipykernel)",
   "language": "python",
   "name": "python3"
  },
  "language_info": {
   "codemirror_mode": {
    "name": "ipython",
    "version": 3
   },
   "file_extension": ".py",
   "mimetype": "text/x-python",
   "name": "python",
   "nbconvert_exporter": "python",
   "pygments_lexer": "ipython3",
   "version": "3.9.2"
  }
 },
 "nbformat": 4,
 "nbformat_minor": 5
}

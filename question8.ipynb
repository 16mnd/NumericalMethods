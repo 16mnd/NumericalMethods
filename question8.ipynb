{
 "cells": [
  {
   "cell_type": "code",
   "execution_count": 39,
   "id": "e80e73a2",
   "metadata": {},
   "outputs": [
    {
     "name": "stdout",
     "output_type": "stream",
     "text": [
      "[[1. 1. 0.]\n",
      " [1. 0. 1.]\n",
      " [0. 1. 1.]]\n",
      "[[ 0.70710678  0.40824829 -0.57735027]\n",
      " [ 0.70710678 -0.40824829  0.57735027]\n",
      " [ 0.          0.81649658  0.57735027]]\n"
     ]
    }
   ],
   "source": [
    "'''\n",
    "import numpy as np\n",
    "import scipy as scipy\n",
    "\n",
    "def gram_schmidt(A):\n",
    "    n = A.shape[1]\n",
    "    print(A)\n",
    "    for j in range(n):\n",
    "\n",
    "        for k in range(j):\n",
    "            \n",
    "            A[:, j] -= np.dot(A[:, k], A[:, j]) * A[:, k]\n",
    "        A[:, j] = A[:, j] / np.linalg.norm(A[:, j])\n",
    "        \n",
    "        \n",
    "    return A\n",
    "\n",
    "\n",
    "A = np.array([[1.0, 1.0, 0.0], [1.0, 0.0, 1.0], [0.0, 1.0, 1.0]])\n",
    "print(gram_schmidt(A))\n",
    "'''"
   ]
  },
  {
   "cell_type": "code",
   "execution_count": 21,
   "id": "49000513",
   "metadata": {
    "scrolled": true
   },
   "outputs": [
    {
     "name": "stdout",
     "output_type": "stream",
     "text": [
      "[[ 1.  1.  0.]\n",
      " [ 1.  3.  1.]\n",
      " [ 2. -1.  1.]]\n",
      "[[ 1.          3.22474487 -0.31649658]\n",
      " [-0.81649658 -0.63299316  0.10359634]\n",
      " [ 0.57735027  0.44759376  2.42674632]]\n"
     ]
    }
   ],
   "source": [
    "'''\n",
    "for j = 1 to n\n",
    "    q[j] = a[j]\n",
    "    for i = 1 to j-1\n",
    "        r[i,j] = H(q[i])a[j]\n",
    "        q[j] = q[j] - r[i,j]q[i]\n",
    "    next i\n",
    "    r[j,j] = normL2(q[j])\n",
    "    q[j] = q[j]/r[j,j]\n",
    "next j\n",
    "return q,r\n",
    "'''\n",
    "\n",
    "'''\n",
    "import numpy as np\n",
    "import scipy as scipy\n",
    "\n",
    "def gram_schmidt(A):\n",
    "    n = A.shape[1]\n",
    "    q = np.zeros(A.shape, dtype=A.dtype)\n",
    "    r = np.zeros(A.shape, dtype=A.dtype)\n",
    "    for j in range(n):\n",
    "        q[j]=A[j]\n",
    "        for i in range(j):\n",
    "            r[i,j]= np.dot(q[i],A[j])\n",
    "            q[j]=q[j]-r[i,j]*(q[i])\n",
    "            \n",
    "        r[j,j]=np.linalg.norm(q[j])\n",
    "        q[j]=q[j]/r[j,j]\n",
    "        \n",
    "        \n",
    "        \n",
    "    return q, r\n",
    "\n",
    "\n",
    "A = np.array([[1.0, 1.0, 0.0], [1.0, 3.0, 1.0], [2.0, -1.0, 1.0]])\n",
    "q, r = gram_schmidt(A)\n",
    "print(A)\n",
    "#print(q)\n",
    "#print(r)\n",
    "\n",
    "print(np.dot(q,r))\n",
    "'''"
   ]
  },
  {
   "cell_type": "code",
   "execution_count": null,
   "id": "c9b51e5b",
   "metadata": {},
   "outputs": [
    {
     "name": "stdout",
     "output_type": "stream",
     "text": [
      "failed on specifc condition\n"
     ]
    }
   ],
   "source": [
    "'''\n",
    "import numpy as np\n",
    "def orthonormalize(A):\n",
    "    n=A.shape[1]\n",
    "    a=np.transpose(A)\n",
    "    q = np.copy(a) # initialize Q = A # can do this outside loop bc A does not change\n",
    "    r = np.zeros(a.shape, dtype=a.dtype) # initialize R\n",
    "\n",
    "    for vj in range(0,n): # vector index j\n",
    "        q[vj] = a[vj] # but this is already done up there so no need here\n",
    "        for vi in range(0,vj): # vector index i\n",
    "            r[vi,vj] = np.transpose(q[vi])*a[vj]\n",
    "            q[vj] = q[vj] - (r[vi,vj]*q[vi])\n",
    "            r[vj,vj] = norm(qj)\n",
    "        if r[vj,vj] == 0:\n",
    "            print(\"failed on specifc condition\")\n",
    "        else:\n",
    "            q[vj] = q[vj]/r[vj,vj]\n",
    "\n",
    "    return q,r \n",
    "\n",
    "A = np.array([[1.0, 1.0, 0.0], [1.0, 3.0, 1.0], [2.0, -1.0, 1.0]])\n",
    "q, r = orthonormalize(A)\n",
    "print(\"q, unitary\\n\",q.T,\"\\n\") # transpose switches column index back to 2nd position\n",
    "print(\"r, upper right triangular\\n\",r,\"\\n\")\n",
    "print(\"qr, reconstituted to a\\n\",np.dot(q.T,r),\"\\n\")\n",
    "\n",
    "\n",
    "'''"
   ]
  },
  {
   "cell_type": "code",
   "execution_count": 2,
   "id": "fdedcd6d",
   "metadata": {},
   "outputs": [
    {
     "name": "stdout",
     "output_type": "stream",
     "text": [
      "this is A \n",
      " [[1. 1. 0.]\n",
      " [1. 0. 1.]\n",
      " [0. 1. 1.]] \n",
      "\n",
      "u, unitary\n",
      " [[ 0.70710678  0.40824829 -0.12309149]\n",
      " [ 0.70710678 -0.40824829  0.86164044]\n",
      " [ 0.          0.81649658  0.49236596]] \n",
      "\n",
      "r, upper right triangular\n",
      " [[1.41421356 0.70710678 0.70710678]\n",
      " [0.         1.22474487 0.40824829]\n",
      " [0.         0.         1.3540064 ]] \n",
      "\n",
      "ur, reconstituted to a\n",
      " [[ 1.00000000e+00  1.00000000e+00  5.00000000e-01]\n",
      " [ 1.00000000e+00 -2.24889038e-17  1.50000000e+00]\n",
      " [ 0.00000000e+00  1.00000000e+00  1.00000000e+00]] \n",
      "\n"
     ]
    }
   ],
   "source": [
    "'''\n",
    "\n",
    "import numpy as np\n",
    "import math\n",
    "def finalImplementation(A):\n",
    "    n = A.shape[0] \n",
    "    a= A\n",
    "    u= np.copy(a)\n",
    "    r = np.zeros(A.shape, dtype=A.dtype)\n",
    "    for j in range(n):\n",
    "        \n",
    "        for i in range(j):\n",
    "            r[j,i] = np.dot(a[:,j],u[:,i])\n",
    "            u[:,j]=a[:,j]-((r[j,i])*(u[:,i]))\n",
    "            u[:,j]=u[:,j]/(np.dot(u[:,j],u[:,j]))\n",
    "        divisor=math.sqrt(np.dot(u[:,j], u[:,j]))\n",
    "        \n",
    "        u[:,j]=u[:,j]/divisor\n",
    "        r[j,j]= np.dot(u[:,j],a[:,j])\n",
    "       \n",
    "    \n",
    "    return u,r\n",
    "\n",
    "\n",
    "A = np.array([[1.0, 1.0, 0.0], [1.0, 0 , 1.0], [0.0, 1.0, 1.0]])\n",
    "u,r = finalImplementation(A)\n",
    "print(\"this is A \\n\", A, \"\\n\")\n",
    "print(\"u, unitary\\n\",u,\"\\n\") # transpose switches column index back to 2nd position\n",
    "print(\"r, upper right triangular\\n\",r.T,\"\\n\")\n",
    "print(\"ur, reconstituted to a\\n\",np.dot(u,r.T),\"\\n\")\n",
    " \n",
    "\n",
    "\n",
    "'''\n"
   ]
  },
  {
   "cell_type": "code",
   "execution_count": 3,
   "id": "1d67eeb5",
   "metadata": {},
   "outputs": [
    {
     "name": "stdout",
     "output_type": "stream",
     "text": [
      "this is A \n",
      " [[1. 2. 3.]\n",
      " [4. 5. 6.]\n",
      " [7. 8. 9.]] \n",
      "\n",
      "Q, unitary\n",
      " [[ 0.12309149  0.57735027 -0.45584231]\n",
      " [ 0.49236596  0.57735027 -0.56980288]\n",
      " [ 0.86164044  0.57735027 -0.68376346]] \n",
      "\n",
      "R, upper right triangular\n",
      " [[ 8.1240384   8.1240384  12.55533208]\n",
      " [ 0.          1.73205081 13.85640646]\n",
      " [ 0.          0.         14.35903263]] \n",
      "\n",
      "QR, reconstituted to a\n",
      " [[1. 2. 3.]\n",
      " [4. 5. 6.]\n",
      " [7. 8. 9.]] \n",
      "\n"
     ]
    }
   ],
   "source": [
    "import numpy as np\n",
    "#import math\n",
    "\n",
    "def finalImplementation(A):\n",
    "    r = np.zeros(A.shape, dtype=A.dtype)\n",
    "    q = np.copy(A)\n",
    "    for j in range(A.shape[0]):\n",
    "        for i in range(j):\n",
    "            r[i,j] = np.dot(q[:,i].T,A[j])\n",
    "            q[:,j] = q[:,j] - r[i,j]*q[:,i]\n",
    "\n",
    "        r[j,j] = np.linalg.norm(q[:,j])\n",
    "        if r[j,j] == 0:\n",
    "              print(\"oh, crap\")\n",
    "        else:\n",
    "              q[:,j] = q[:,j]/r[j,j]    \n",
    "    #return u,r\n",
    "    return q,r\n",
    "\n",
    "\n",
    "\n",
    "A = np.array([[1.,2.,3.],[4.,5.,6.],[7.,8.,9.]])\n",
    "Q,R = finalImplementation(A)\n",
    "print(\"this is A \\n\", A, \"\\n\")\n",
    "print(\"Q, unitary\\n\",Q,\"\\n\") # transpose switches column index back to 2nd position\n",
    "print(\"R, upper right triangular\\n\",R,\"\\n\")\n",
    "print(\"QR, reconstituted to a\\n\",np.dot(Q,R),\"\\n\")"
   ]
  },
  {
   "cell_type": "code",
   "execution_count": null,
   "id": "e5c8a792",
   "metadata": {},
   "outputs": [],
   "source": []
  }
 ],
 "metadata": {
  "kernelspec": {
   "display_name": "Python 3 (ipykernel)",
   "language": "python",
   "name": "python3"
  },
  "language_info": {
   "codemirror_mode": {
    "name": "ipython",
    "version": 3
   },
   "file_extension": ".py",
   "mimetype": "text/x-python",
   "name": "python",
   "nbconvert_exporter": "python",
   "pygments_lexer": "ipython3",
   "version": "3.9.2"
  }
 },
 "nbformat": 4,
 "nbformat_minor": 5
}

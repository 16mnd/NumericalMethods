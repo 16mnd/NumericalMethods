{
 "cells": [
  {
   "cell_type": "code",
   "execution_count": 1,
   "id": "27476214",
   "metadata": {},
   "outputs": [
    {
     "data": {
      "text/plain": [
       "'10000000.010100001110010101100000010000011000100100110111010011'"
      ]
     },
     "execution_count": 1,
     "metadata": {},
     "output_type": "execute_result"
    }
   ],
   "source": [
    "def integer_to_binary(n):  #only for positive  \n",
    "    this = str(n)\n",
    "    this = this.split('.') \n",
    "    integer = int(this[0])\n",
    "    decimal = float('0.'+this[1])\n",
    "    \n",
    "    i= 0\n",
    "    num = 0\n",
    "    while(integer>=1):\n",
    "        num = (10**i) * (integer%2) + num\n",
    "        integer=integer//2\n",
    "        i+=1\n",
    "    \n",
    "\n",
    "    okaydokey=decimal_to_binary(decimal)\n",
    "    finalll= str(num) + str(okaydokey)\n",
    "    return finalll\n",
    "    \n",
    "def decimal_to_binary(num):\n",
    "    lister= []\n",
    "    while(num != 0):\n",
    "        num = num * 2\n",
    "        this = str(num)\n",
    "        lister.append((this.split('.')))\n",
    "        if num>=1:\n",
    "            num=num-1\n",
    "        else:\n",
    "            num=num\n",
    "    final = ''\n",
    "    final_two = ''\n",
    "    for i,j in lister:\n",
    "        final = final + i\n",
    "    return '.' + final\n",
    "#integer_to_binary(27.375) \n",
    "\n",
    "#integer_to_binary(35.678) \n",
    "integer_to_binary(128.316)"
   ]
  },
  {
   "cell_type": "code",
   "execution_count": 3,
   "id": "ba977f65",
   "metadata": {},
   "outputs": [
    {
     "data": {
      "text/plain": [
       "46.8125"
      ]
     },
     "execution_count": 3,
     "metadata": {},
     "output_type": "execute_result"
    }
   ],
   "source": [
    "\n",
    "def binary_integer_full_to_decimal(num):\n",
    "    \n",
    "    num = num.split('.')\n",
    "    final = 0\n",
    "    counter = 0\n",
    "    for i in range(len(num[1])-1,-1,-1):\n",
    "        #print(num[1][i])\n",
    "        final = (0.5)*(int(num[1][i])+counter)\n",
    "        counter=final\n",
    "        \n",
    "    reorganize=len(num[0])\n",
    "    for i in range(len(num[0])-1,-1,-1):\n",
    "        exp= 2**i \n",
    "        track = int(num[0][reorganize-(i+1)]) \n",
    "        counter += exp*track \n",
    "\n",
    "        \n",
    "    \n",
    "    return counter\n",
    "    \n",
    "\n",
    "     \n",
    "#binary_integer_full_to_decimal('1011.1011')\n",
    "binary_integer_full_to_decimal('101110.1101')"
   ]
  },
  {
   "cell_type": "code",
   "execution_count": null,
   "id": "96725a16",
   "metadata": {},
   "outputs": [],
   "source": []
  }
 ],
 "metadata": {
  "kernelspec": {
   "display_name": "Python 3 (ipykernel)",
   "language": "python",
   "name": "python3"
  },
  "language_info": {
   "codemirror_mode": {
    "name": "ipython",
    "version": 3
   },
   "file_extension": ".py",
   "mimetype": "text/x-python",
   "name": "python",
   "nbconvert_exporter": "python",
   "pygments_lexer": "ipython3",
   "version": "3.9.2"
  }
 },
 "nbformat": 4,
 "nbformat_minor": 5
}
